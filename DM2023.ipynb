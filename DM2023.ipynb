{
  "cells": [
    {
      "cell_type": "markdown",
      "metadata": {
        "id": "view-in-github",
        "colab_type": "text"
      },
      "source": [
        "<a href=\"https://colab.research.google.com/github/mohamedbougra/Boss-Level-Challenge-1-The-Dicee-Game/blob/main/DM2023.ipynb\" target=\"_parent\"><img src=\"https://colab.research.google.com/assets/colab-badge.svg\" alt=\"Open In Colab\"/></a>"
      ]
    },
    {
      "cell_type": "markdown",
      "metadata": {
        "id": "oF9dVSoFNBuw"
      },
      "source": [
        "<h2><center>ING2 EILCO: Ingénierie Mathématique 3 </center></h2>\n",
        "<img src=\"machineLearning2023.jpeg\" width=300 height=300 />   <h3><center> Devoir Maison 2023 </center></h3>\n",
        "   \n",
        "   <center><font color='red'><b>Given date: Vendredi 22 décembre 2023</b></font></center>\n",
        "\n",
        "<center><font color='red'><b>Due date: Vendredi 22 Janvier 2024</b></font></center>\n",
        "\n",
        "#### <center>Total: 22pts</center>\n",
        "\n",
        "\n"
      ]
    },
    {
      "cell_type": "markdown",
      "metadata": {
        "id": "XNrV4SX8NBu0"
      },
      "source": [
        "### Question 1. (5pts) Validation croisée\n",
        "\n",
        "En utilisant les lignes ci-dessous, chargez les ensembles de données 'Assignment2_Ex1_xi' et 'Assignment2_Ex1_ti'. Chaque point de l'ensemble d'entraînement est représenté par 5 caractéristiques $x_{i,1}$, $x_{i,2}, \\ldots x_{i,5}$. Parmi ces caractéristiques, on souhaite trouver celles qui sont les plus significatives pour la description des cibles $t_i$. On interprètera les cibles comme exprimant, par exemple, la probabilité de développer un trait ou une maladie particulière, et les caractéristiques comme codant l'expressivité de gènes particuliers. Dans un tel cadre, l'objectif consiste donc à trouver les gènes qui influencent le plus le trait encodé par les valeurs cibles.\n",
        "\n",
        "Afin d'atteindre cet objectif, on vous demande d'implémenter une approche de sélection du meilleur sous-ensemble via une validation croisée. Complétez le code ci-dessous en implémentant les étapes suivantes :\n",
        "\n",
        "- Pour chaque valeur de k (de 2 à 5), calculez tous les sous-ensembles (beta_i, beta_j, ...) de taille k.\n",
        "\n",
        "\n",
        "- Divisez l'ensemble des données d'entraînement en m=4 groupes, pour chaque groupe m=1,...4, entrainer chacun des modèles de taille k en utilisant la fonction linear_regression de scikit_learn (il n'est pas nécessaire de réimplémentez la descente de gradient) sur les m-1 groupes restants, puis calculez l'erreur quadratique moyenne (MSE) sur le groupe m.\n",
        "\n",
        "\n",
        "- Déterminer le sous-ensemble optimal de coefficients en comparant les MSE et représenter l'évolution de la MSE en fonction du nombre k de poids en moyennant les erreurs sur les sous-ensembles de taille k. i.e. en prenant par exemple MSE(2) = (1/4)(MSE(beta0, beta1) + MSE(beta0, beta2) + ...MSE(beta0, beta4))\n"
      ]
    },
    {
      "cell_type": "code",
      "execution_count": null,
      "metadata": {
        "colab": {
          "base_uri": "https://localhost:8080/",
          "height": 472
        },
        "id": "GgD37tHfNBu2",
        "outputId": "52034fe2-ff68-44a9-f54e-053541bc8ff5"
      },
      "outputs": [
        {
          "output_type": "display_data",
          "data": {
            "text/plain": [
              "<Figure size 640x480 with 1 Axes>"
            ],
            "image/png": "[encoded data removed]"
          },
          "metadata": {}
        }
      ],
      "source": [
        "import numpy as np\n",
        "import matplotlib.pyplot as plt\n",
        "from itertools import combinations\n",
        "from sklearn.linear_model import LinearRegression\n",
        "from sklearn.metrics import mean_squared_error\n",
        "from sklearn.model_selection import KFold\n",
        "\n",
        "xi = np.load('Assignment2_Ex1_xi.npy')\n",
        "ti = np.load('Assignment2_Ex1_ti.npy')\n",
        "\n",
        "D = 5  # number of coefficients\n",
        "K = 5  # number of bins used for cross-validation\n",
        "\n",
        "# Step 1: Finding the optimal d\n",
        "MSE = np.zeros((D, 1))\n",
        "\n",
        "for d in range(0, D-1):\n",
        "    subset_combinations = list(combinations(range(D), d+1))\n",
        "\n",
        "    # 1) Select each subset of coefficients and learn a model for each\n",
        "    subset_errors = np.zeros(len(subset_combinations))\n",
        "\n",
        "    for i, subset in enumerate(subset_combinations):\n",
        "        # cross-validation\n",
        "        kf = KFold(n_splits=4, shuffle=True, random_state=42)\n",
        "        model_errors = 0\n",
        "\n",
        "        for j, (train_index, test_index) in enumerate(kf.split(xi)):\n",
        "            xi_train, xi_test = xi[train_index], xi[test_index]\n",
        "            ti_train, ti_test = ti[train_index], ti[test_index]\n",
        "\n",
        "            # linear regression\n",
        "            model = LinearRegression()\n",
        "            model.fit(xi_train[:, subset], ti_train)\n",
        "            ti_pred = model.predict(xi_test[:, subset])\n",
        "            model_errors += np.mean((ti_test - ti_pred) ** 2)\n",
        "\n",
        "        subset_errors[i] = model_errors/4\n",
        "\n",
        "    # 2) Once you have computed the MSE for each subset, find the minimum and store it\n",
        "    best_subset_index = np.argmin(subset_errors)\n",
        "    best_subset = subset_combinations[best_subset_index]\n",
        "    best_subset_error = np.mean(subset_errors)\n",
        "\n",
        "    MSE[d] = best_subset_error\n",
        "\n",
        "# Step 2: Plotting the evolution of the average prediction error as a function of the number of coefficients\n",
        "plt.plot(range(2, D), MSE[0:D-1], marker='*')\n",
        "plt.title('MSE with Number of Coefficients')\n",
        "plt.xlabel('k')\n",
        "plt.ylabel('MSE')\n",
        "plt.show()\n"
      ]
    },
    {
      "cell_type": "markdown",
      "metadata": {
        "id": "0MjFeARQNBu4"
      },
      "source": [
        "### Question 2. Régression logistique (12pts)\n",
        "\n",
        "##### Question 2.1 Régression logistique (5pts)\n",
        "\n",
        "Comme on l'a vu durant le cours, le modèle de régression logistique est donné par la composition entre une fonction d'activation (sigmoïde) et un discriminant linéaire $\\beta_0 + \\mathbf{\\beta}^T \\mathbf{x}$. Cette composition peut alors être utilisée pour modéliser la probabilité de classe ($0$ vs $1$) via une loi de Bernoulli de paramètre $\\sigma(\\tilde{\\mathbf{\\beta}}^T\\tilde{\\mathbf{x}})$. Autrement dit, on a\n",
        "\n",
        "$$\\left\\{\\begin{array}{l}\n",
        "P(t = 1|x) = \\sigma(\\mathbf{\\beta}^T\\mathbf{x})\\\\\n",
        "P(t = 0|x) = 1-\\sigma(\\mathbf{\\beta}^T\\mathbf{x})\\end{array}\\right.$$\n",
        "\n",
        "La distribution de probabilité complète de la cible t peut s'exprimer\n",
        "\n",
        "$$P(\\left\\{t_i\\right\\}_{i=1}^N) = \\prod_{i=1}^N \\sigma(\\mathbf{\\beta}^T\\mathbf{x})^{t^{(i)}}(1-\\sigma(\\mathbf{\\beta}^T\\mathbf{x}))^{1-t^{(i)}}$$\n",
        "\n",
        "On peut ensuite en prendre le logarithme (fonction de log-vraissemblance) et en calculer les dérivées par rapport à chaque poids $\\beta_j$.\n",
        "\n",
        "Implémenter cette première approche ci-dessous. Se rappeler que la dérivée de la sigmoïde possède une _expression particulièrement simple et élégante_."
      ]
    },
    {
      "cell_type": "code",
      "execution_count": null,
      "metadata": {
        "id": "Mfl3IZARNBu4",
        "colab": {
          "base_uri": "https://localhost:8080/"
        },
        "outputId": "c3a1df31-13df-4194-f2c6-bd57783d600d"
      },
      "outputs": [
        {
          "output_type": "stream",
          "name": "stdout",
          "text": [
            "Weights: [-0.12875067 -0.12875067 -0.00409647 -0.13284714]\n"
          ]
        }
      ],
      "source": [
        "# Step 1 define the sigmoid activation and its derivative\n",
        "import numpy as np\n",
        "\n",
        "def sigmoid(x):\n",
        "    '''The function should return the sigmoid and its derivative at all the\n",
        "    points encoded in the vector x (be careful of the fact that ) '''\n",
        "    sig = 1 / (1 + np.exp(-x))\n",
        "    deriv_sig = sig * (1 - sig)\n",
        "    return sig, deriv_sig\n",
        "\n",
        "def solve_logistic_regression(xi, ti, beta0, max_iter, eta):\n",
        "    '''The function should return the vector of weights in logistic regression\n",
        "    following from gradient descent iterations applied to the log likelihood function'''\n",
        "\n",
        "    # Ajoutez une colonne de 1 à xi pour le terme constant beta0\n",
        "    X = np.c_[np.ones_like(xi), xi]\n",
        "\n",
        "    # Initialiser\n",
        "    beta = np.zeros(X.shape[1])\n",
        "\n",
        "    # Nombre d'échantillons\n",
        "    N = len(ti)\n",
        "\n",
        "    #la descente de gradient\n",
        "    for _ in range(max_iter):\n",
        "        # les prédictions\n",
        "        z = np.dot(X, beta)\n",
        "        predictions, _ = sigmoid(z)\n",
        "\n",
        "        # Calcul du grad de la log-vraisemblance négative\n",
        "        gradient = np.dot(X.T,ti-predictions) / N\n",
        "\n",
        "        # Mettre à jour les poids\n",
        "        beta += eta * gradient\n",
        "\n",
        "    return beta\n",
        "\n",
        "# Exemple d'utilisation avec des données fictives\n",
        "xi = np.array([[1, 2], [2, 3], [3, 4]])\n",
        "ti = np.array([0, 1, 0])\n",
        "beta0 = 0\n",
        "max_iter = 1000\n",
        "eta = 0.01\n",
        "\n",
        "resulting_weights = solve_logistic_regression(xi, ti, beta0, max_iter, eta)\n",
        "print(\"Weights:\", resulting_weights)\n"
      ]
    },
    {
      "cell_type": "markdown",
      "metadata": {
        "id": "P7g0_CcMNBu5"
      },
      "source": [
        "#### Question 2.2 Fisher scoring (5pts)\n",
        "\n",
        "Un aspect intéressant de l'estimateur de maximum de vraissemblance (MLE) en régression logistique (par rapport à d'autres fonctions objectif) est que la matrice Hessienne (qui encode les dérivées secondes) est définie positive. Cette propriété permet entre autre d'améliorer les itérations en utilisant une méthode du second ordre (Newton ou quasi Newton) dans laquelle les itérations de gradient $ \\mathbf{\\boldsymbol \\beta}^{k+1}\\leftarrow \\mathbf{\\boldsymbol \\beta}^k - \\eta\\nabla \\ell(\\mathbf{\\boldsymbol \\beta}^k)$ sont remplacées par la mise à jour d'ordre 2 suivante\n",
        "\n",
        "$$\\mathbf{\\boldsymbol \\beta}^{k+1}\\leftarrow \\mathbf{\\boldsymbol \\beta}^k - \\eta H^{-1}({{\\boldsymbol \\beta}^k})\\nabla \\ell(\\mathbf{\\boldsymbol \\beta}^k)\\quad \\quad (*)$$\n",
        "\n",
        "où $H^{-1}$ est l'inverse de la matrice Hessienne. Si on utilise $\\mathbf{v}(\\beta)$ pour désigner le vecteur des variances $\\mathbf{v}(\\beta) = [v_1(\\beta), \\ldots, v_n(\\beta)]$ où $v_i(\\beta)= y(\\mathbf{x}_i)(1-y(\\mathbf{x}_i))$, la valeur moyenne de la Hessienne est alors donnée par\n",
        "$$H(\\beta ) = -\\mathbf{X}(\\beta)^T \\mathbf{v}(\\beta)\\mathbf{X}(\\beta)$$\n",
        "\n",
        "(voir par exemple [ici](https://statacumen.com/teach/SC1/SC1_11_LogisticRegression.pdf))\n",
        "\n",
        "Commencee par compléter la fonction ci-dessous qui retourne la Hessienne de la fonction de log vraissemblance\n"
      ]
    },
    {
      "cell_type": "code",
      "execution_count": null,
      "metadata": {
        "id": "qWgEe680NBu6"
      },
      "outputs": [],
      "source": [
        "import numpy as np\n",
        "\n",
        "def HessianMLE(beta, X, y):\n",
        "    '''\n",
        "    Function should return the Hessian matrix of the log-likelihood\n",
        "    at a particular value of the weights beta.\n",
        "\n",
        "    Parameters:\n",
        "    - beta: numpy array, weights\n",
        "    - X: numpy array, design matrix\n",
        "    - y: numpy array, target values (0 or 1)\n",
        "\n",
        "    Returns:\n",
        "    - H: numpy array, Hessian matrix\n",
        "    '''\n",
        "\n",
        "    n = len(y)\n",
        "    p = len(beta)\n",
        "\n",
        "    # Compute the predicted probabilities\n",
        "    y_pred = sigmoid(np.dot(X, beta))\n",
        "\n",
        "    # Compute the vector of variances\n",
        "    v = y_pred * (1 - y_pred)\n",
        "\n",
        "    # Diagonal matrix of variances\n",
        "    V = np.diag(v)\n",
        "\n",
        "    # Compute the Hessian matrix\n",
        "    H = -np.dot(X.T, np.dot(V, X))\n",
        "\n",
        "    return H"
      ]
    },
    {
      "cell_type": "markdown",
      "metadata": {
        "id": "CwQ1DtbuNBu6"
      },
      "source": [
        "Un fois calculée la Hessienne, implémenter la mise à jour $(*)$"
      ]
    },
    {
      "cell_type": "code",
      "execution_count": null,
      "metadata": {
        "id": "ycdT1wRUNBu6"
      },
      "outputs": [],
      "source": [
        "def Fisher_scoring(beta0, maxIter, eta, X, y):\n",
        "    '''\n",
        "    Function should compute the logistic regression classifier by relying on Fisher scoring.\n",
        "    Iterates should start at beta0 and be applied with a learning rate eta.\n",
        "\n",
        "    '''\n",
        "\n",
        "    numIter = 0\n",
        "    betaPrevious = beta0\n",
        "\n",
        "    while numIter < maxIter:\n",
        "        hessian_beta = HessianMLE(betaPrevious, X, y)\n",
        "\n",
        "        # Check if the Hessian is invertible (no eigenvalue is 0)\n",
        "        if np.all(np.linalg.eigvals(hessian_beta) != 0):\n",
        "            invHessian = np.linalg.inv(hessian_beta)\n",
        "        else:\n",
        "            print(' Hessian Matrix not inversible ')\n",
        "            break\n",
        "\n",
        "        # Compute the gradient\n",
        "        gradient = np.dot(X.T, (y - sigmoid(np.dot(X, betaPrevious))))\n",
        "\n",
        "        # Update beta using Fisher scoring\n",
        "        betaNext = betaPrevious + eta * np.matmul(invHessian, gradient)\n",
        "\n",
        "        # Update for the next iteration\n",
        "        betaPrevious = betaNext\n",
        "        numIter += 1\n",
        "\n",
        "    return betaNext"
      ]
    },
    {
      "cell_type": "markdown",
      "metadata": {
        "id": "JW8bLr53NBu7"
      },
      "source": [
        "#### Question 2.3 Comparaison des deux approches (2pts)\n",
        "\n",
        "Comparez les itérations du gradient avec les itérations du Fisher scoring pour l'ensemble de données donné ci-dessous. Tracez l'évolution de la fonction de log-vraissemblance en fonction des itérations pour les deux méthodes."
      ]
    },
    {
      "cell_type": "code",
      "execution_count": null,
      "metadata": {
        "id": "rq4tw-siNBu8",
        "colab": {
          "base_uri": "https://localhost:8080/",
          "height": 524
        },
        "outputId": "ce3f29b2-441c-4282-c2e6-7bc13fcd601e"
      },
      "outputs": [
        {
          "output_type": "stream",
          "name": "stderr",
          "text": [
            "<ipython-input-76-2342f48d053f>:7: RuntimeWarning: overflow encountered in exp\n",
            "  return 1 / (1 + np.exp(-x))\n"
          ]
        },
        {
          "output_type": "stream",
          "name": "stdout",
          "text": [
            "Error: Singular Hessian Matrix\n"
          ]
        },
        {
          "output_type": "display_data",
          "data": {
            "text/plain": [
              "<Figure size 640x480 with 1 Axes>"
            ],
            "image/png": "[encoded data removed]"
          },
          "metadata": {}
        }
      ],
      "source": [
        "import numpy as np\n",
        "import matplotlib.pyplot as plt\n",
        "\n",
        "\n",
        "def gradient_descent(beta0, maxIter, eta, X, y, track_log_likelihood=False):\n",
        "    numIter = 0\n",
        "    betaPrevious = beta0\n",
        "    log_likelihood_history = []\n",
        "\n",
        "    while numIter < maxIter:\n",
        "        # Compute the gradient\n",
        "        gradient = np.dot(X.T, (y - sigmoid(betaPrevious @ X.T)))\n",
        "\n",
        "        # Update beta using gradient descent\n",
        "        betaNext = betaPrevious + eta * gradient\n",
        "\n",
        "        # Update for the next iteration\n",
        "        betaPrevious = betaNext\n",
        "        numIter += 1\n",
        "\n",
        "        # Track log-likelihood if requested\n",
        "        if track_log_likelihood:\n",
        "            log_likelihood = np.sum(y * np.log(sigmoid(betaPrevious @ X.T)) + (1 - y) * np.log(1 - sigmoid(betaPrevious @ X.T)))\n",
        "            log_likelihood_history.append(log_likelihood)\n",
        "\n",
        "    return betaNext, log_likelihood_history\n",
        "\n",
        "np.random.seed(42)\n",
        "X = np.random.rand(100, 5)\n",
        "beta_true = np.array([1, 2, 3, 4, 5])\n",
        "y = np.random.binomial(1, sigmoid(np.dot(X, beta_true)))\n",
        "\n",
        "# Initialiser les poids beta0\n",
        "beta0 = np.zeros(X.shape[1])\n",
        "\n",
        "# Paramètres d'optimisation\n",
        "maxIter = 100\n",
        "eta = 0.01\n",
        "\n",
        "# Gradient Descent\n",
        "beta_gradient, log_likelihood_gradient = gradient_descent(beta0, maxIter, eta, X, y, True)\n",
        "\n",
        "# Fisher Scoring\n",
        "beta_fisher= Fisher_scoring(beta0, maxIter, eta, X, y)\n",
        "\n",
        "# Tracer l'évolution de la log-vraisemblance\n",
        "plt.plot(range(1, maxIter + 1), log_likelihood_gradient, label=' Descent de gradiant')\n",
        "plt.plot(range(1, maxIter + 1), label='Fisher Scoring')\n",
        "plt.xlabel('Iterations')\n",
        "plt.ylabel('Log-Likelihood')\n",
        "plt.title('Log-Vraisemblance')\n",
        "plt.legend()\n",
        "plt.show()"
      ]
    },
    {
      "cell_type": "markdown",
      "metadata": {
        "id": "pP4LVCDfNBu8"
      },
      "source": [
        "### Question 3: Prédiction des admissions à l'université (5pts)\n",
        "\n",
        "Dans cette dernière question, on souhaite prédire les admissions à l'université en fonction d'une série de caractéristiques [fournies par Kaggle](https://www.kaggle.com/mohansacharya/graduate-admissions) comprenant :\n",
        "\n",
        "- Scores GRE et TOEFL\n",
        "- Classement de l'université\n",
        "- Lettre de recommandation\n",
        "- Moyenne de premier cycle\n",
        "- ...\n",
        "\n",
        "On souhaite en particulier entrainer un modèle de régression de type Ridge (on utilisera le modèle scikit-learn avec les fonctions fit et predict).\n",
        "\n",
        "- Commencer par diviser l'ensemble de données en un ensemble d'entraînement (environ 90 %) et un ensemble de test (10 % restants) en utilisant la fonction train_test_split du module model_selection. Mettre l'ensemble test de côté pour le reste de l'exercice.\n",
        "\n",
        "- Maintenant que vous avez pu implémenter un premier modèle de validation croisée, on va également tenter d'évaluer la valeur optimale de lambda dans le modèle de régression Ridge. Pour ce faire, vous pouvez utiliser une extension du modèle de régression Ridge de scikit-learn : sklearn.linear_model.RidgeCV. Cette extension vous permet de spécifier un tableau de valeurs à tester pour $\\lambda$ ($\\alpha$ dans scikit-learn). La meilleure valeur est ensuite renvoyée par le biais de l'attribut 'alpha_' du modèle (voir [documentation](https://scikit-learn.org/stable/modules/generated/sklearn.linear_model.RidgeCV.html) pour plus de détails). Entraîner le modèle (à la fois lambda et beta) sur le sous-ensemble d'entraînement de la première étape.\n",
        "\n",
        "- Enfin, évaluer les prédictions de votre modèle sur l'ensemble de test de 10 % que vous avez mis de côté lors de la première étape.\n"
      ]
    },
    {
      "cell_type": "code",
      "source": [
        "import pandas as pd\n",
        "\n",
        "from sklearn.linear_model import RidgeCV\n",
        "from sklearn.preprocessing import StandardScaler\n",
        "from sklearn.pipeline import make_pipeline\n",
        "from sklearn.model_selection import train_test_split\n",
        "# Charger les données depuis les fichiers CSV\n",
        "data = pd.read_csv(\"Admission_Predict.csv\")\n",
        "\n",
        "X = data.drop(\"Chance of Admit \", axis=1)  # Assurez-vous de traiter correctement le nom de la colonne cible\n",
        "y = data[\"Chance of Admit \"]\n",
        "\n",
        "X_train, X_test, y_train, y_test = train_test_split(X, y, test_size=0.1, random_state=42)\n",
        "model = make_pipeline(StandardScaler(), RidgeCV(alphas=[0.1, 1.0, 10.0]))\n",
        "\n",
        "# Entraîner le modèle sur l'ensemble d'entraînement\n",
        "model.fit(X_train, y_train)\n",
        "\n",
        "# Afficher la meilleure valeur de lambda sélectionnée\n",
        "best_alpha = model.named_steps['ridgecv'].alpha_\n",
        "print(\"alpha:\", best_alpha)\n",
        "\n",
        "\n",
        "\n",
        "y_pred = model.predict(X_test)\n",
        "\n",
        "from sklearn.metrics import mean_squared_error, r2_score\n",
        "\n",
        "# Calculer l'erreur quadratique moyenne (MSE)\n",
        "mse = mean_squared_error(y_test, y_pred)\n",
        "print(\"MSE sur l'ensemble de test:\", mse)\n",
        "\n",
        "# Calculer le coefficient de détermination (R²)\n",
        "r2 = r2_score(y_test, y_pred)\n",
        "print(\"R² sur l'ensemble de test:\", r2)"
      ],
      "metadata": {
        "colab": {
          "base_uri": "https://localhost:8080/"
        },
        "id": "z01F6c7qVba8",
        "outputId": "acebcbfd-5b43-4701-865b-33d40db6dafa"
      },
      "execution_count": null,
      "outputs": [
        {
          "output_type": "stream",
          "name": "stdout",
          "text": [
            "alpha: 10.0\n",
            "MSE sur l'ensemble de test: 0.0059344311520998574\n",
            "R² sur l'ensemble de test: 0.7913258792281708\n"
          ]
        }
      ]
    }
  ],
  "metadata": {
    "kernelspec": {
      "display_name": "Python 3",
      "language": "python",
      "name": "python3"
    },
    "language_info": {
      "codemirror_mode": {
        "name": "ipython",
        "version": 3
      },
      "file_extension": ".py",
      "mimetype": "text/x-python",
      "name": "python",
      "nbconvert_exporter": "python",
      "pygments_lexer": "ipython3",
      "version": "3.8.5"
    },
    "colab": {
      "provenance": [],
      "include_colab_link": true
    }
  },
  "nbformat": 4,
  "nbformat_minor": 0
}